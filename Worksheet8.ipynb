{
 "cells": [
  {
   "cell_type": "markdown",
   "id": "41ed2607-949c-44fe-a65a-bae3ca269c97",
   "metadata": {},
   "source": [
    "# Optimal Path Learning - Worksheet 8"
   ]
  },
  {
   "cell_type": "markdown",
   "id": "49bdc97c-17dd-4988-9665-823b713b5756",
   "metadata": {},
   "source": [
    "Starting from the optimal path problem from the previous worksheet we now formulate a learning problem and\n",
    "compare two different ways of training a neural network: \n",
    "<br> - classical supervised training\n",
    "<br> - training with a differentiable simulator"
   ]
  },
  {
   "cell_type": "code",
   "execution_count": 3,
   "id": "a5525b91-3113-4f1c-a344-c59edec67ca9",
   "metadata": {},
   "outputs": [],
   "source": [
    "import numpy as np\n",
    "import matplotlib.pyplot as plt"
   ]
  },
  {
   "cell_type": "markdown",
   "id": "60fd1b16-12f4-4ca9-a2e1-4ef3746ec9bc",
   "metadata": {},
   "source": [
    "### Code from Worksheet7"
   ]
  },
  {
   "cell_type": "code",
   "execution_count": 15,
   "id": "fd151197-77a4-4bdf-9fb0-60a4779b3c04",
   "metadata": {},
   "outputs": [],
   "source": [
    "def potential(x, y):\n",
    "    return (x**2 + y**2 - 1)**2\n",
    "\n",
    "def path(x0, y0, delta_x, F):\n",
    "\n",
    "    positions_x = [x0]\n",
    "    positions_y = [y0]\n",
    "    x = x0 \n",
    "    y = y0\n",
    "\n",
    "    for F0 in F:\n",
    "        x = x + delta_x\n",
    "        y = y + F0\n",
    "\n",
    "        positions_x.append(x)\n",
    "        positions_y.append(y)\n",
    "\n",
    "    return np.array(positions_x), np.array(positions_y)\n",
    "\n",
    "def loss(x, y):\n",
    "    return np.sum(potential(x[1:],y[1:]))\n",
    "\n",
    "def gradient(x,y):\n",
    "    return 4*y*(x**2 + y**2 - 1)\n",
    "\n",
    "learning_rate = 0.001\n",
    "momentum = 0.8\n",
    "steps = 500\n",
    "\n",
    "def gradient_descent(x, y, delta_x, F):\n",
    "    v = np.zeros_like(F)\n",
    "    for i in range(steps):\n",
    "        x, y = path(x[0], y[0], delta_x, F)\n",
    "        \n",
    "        grad = gradient(x[1:],y[1:])\n",
    "        v = momentum*v - learning_rate*grad\n",
    "        F = F + v\n",
    "        \n",
    "        l = loss(x,y)\n",
    "        if l < 0.01:\n",
    "            break;\n",
    "\n",
    "        if (i+1) % 50 == 0 or i == 0 :\n",
    "            print(f\"Iteration {i+1}: Loss = {l}\")\n",
    "\n",
    "    return x,y,F\n",
    "    "
   ]
  },
  {
   "cell_type": "markdown",
   "id": "d37e34a8-1ee6-4ced-b3d0-31e5e66a92d7",
   "metadata": {},
   "source": [
    "## (1) Supervised Training"
   ]
  },
  {
   "cell_type": "markdown",
   "id": "ad927561-55d9-4d3d-aa07-47cbd88eef36",
   "metadata": {},
   "source": [
    "We train the neural network to compute the corresponding force $F$ for variable starting points\n",
    "\n",
    "$$(x_0, y_0) = (−1, \\epsilon)$$ \n",
    "\n",
    "with $\\epsilon$ uniformly sampled from $[−0.01, 0.01]$."
   ]
  },
  {
   "cell_type": "markdown",
   "id": "420adfb2-1e8d-4745-b368-a50583423e95",
   "metadata": {},
   "source": [
    "### (a) Data Set generation"
   ]
  },
  {
   "cell_type": "code",
   "execution_count": 16,
   "id": "62d3feeb-fe33-4df7-9d8f-d84a56052ad1",
   "metadata": {},
   "outputs": [
    {
     "name": "stdout",
     "output_type": "stream",
     "text": [
      "Iteration 1: Loss = 113301.47892548674\n",
      "Iteration 50: Loss = 113301.47892548674\n",
      "Iteration 100: Loss = 113301.47892548674\n",
      "Iteration 150: Loss = 113301.47892548674\n",
      "Iteration 200: Loss = 113301.47892548674\n",
      "Iteration 250: Loss = 113301.47892548674\n",
      "Iteration 300: Loss = 113301.47892548674\n",
      "Iteration 350: Loss = 113301.47892548674\n",
      "Iteration 400: Loss = 113301.47892548674\n",
      "Iteration 450: Loss = 113301.47892548674\n",
      "Iteration 500: Loss = 113301.47892548674\n"
     ]
    }
   ],
   "source": [
    "N = 100\n",
    "x0 = -1.0\n",
    "y0_vector = np.random.uniform(-0.01, 0.01, N)\n",
    "delta_x = 0.1\n",
    "y0 = 0.0\n",
    "# for y0 in y0_vector:\n",
    "F = np.random.uniform(-0.1, 0.1, N-1) \n",
    "x,y = path(x0, y0, delta_x, F)\n",
    "opt_x, opt_y , opt_f = gradient_descent(x, y, delta_x, F)"
   ]
  },
  {
   "cell_type": "markdown",
   "id": "13dbce6a-554f-42be-93ef-44cc1337265f",
   "metadata": {},
   "source": [
    "### (b) Network Training"
   ]
  },
  {
   "cell_type": "markdown",
   "id": "6b2be42e-9dd4-40f2-accc-9e0163ce4ce6",
   "metadata": {},
   "source": [
    "### (c) Evaluation"
   ]
  },
  {
   "cell_type": "markdown",
   "id": "90961657-8c8b-4ab4-a624-fa11757372da",
   "metadata": {},
   "source": [
    "## (2) Differentiable Physics Training"
   ]
  },
  {
   "cell_type": "markdown",
   "id": "d817ef94-9773-4cb1-9133-22e333db2a4f",
   "metadata": {},
   "source": [
    "### (a) Batch-Solvers implemenetation"
   ]
  },
  {
   "cell_type": "markdown",
   "id": "96af4717-46e3-4352-8375-ed119f278ed7",
   "metadata": {},
   "source": [
    "### (b) Netowrk Training "
   ]
  },
  {
   "cell_type": "markdown",
   "id": "edfd7353-f76a-4503-9d08-b08cdf7f469a",
   "metadata": {},
   "source": [
    "### (c) Evaluation"
   ]
  },
  {
   "cell_type": "code",
   "execution_count": null,
   "id": "41b4c3a0-e53d-4edb-a4d4-5b123d77f2b6",
   "metadata": {},
   "outputs": [],
   "source": []
  }
 ],
 "metadata": {
  "kernelspec": {
   "display_name": "Python 3 (ipykernel)",
   "language": "python",
   "name": "python3"
  },
  "language_info": {
   "codemirror_mode": {
    "name": "ipython",
    "version": 3
   },
   "file_extension": ".py",
   "mimetype": "text/x-python",
   "name": "python",
   "nbconvert_exporter": "python",
   "pygments_lexer": "ipython3",
   "version": "3.12.3"
  }
 },
 "nbformat": 4,
 "nbformat_minor": 5
}
