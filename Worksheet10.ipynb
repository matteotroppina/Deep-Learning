{
 "cells": [
  {
   "cell_type": "markdown",
   "id": "1afe6a96-0e55-43c9-a7b4-139241694f12",
   "metadata": {},
   "source": [
    "# Worksheet 10 - Kuramoto-Sivashinsky 2"
   ]
  },
  {
   "cell_type": "code",
   "execution_count": null,
   "id": "1f0898c3-dd02-4566-b9e2-c04a94a4b8e8",
   "metadata": {},
   "outputs": [],
   "source": []
  }
 ],
 "metadata": {
  "kernelspec": {
   "display_name": "Python 3 (ipykernel)",
   "language": "python",
   "name": "python3"
  },
  "language_info": {
   "codemirror_mode": {
    "name": "ipython",
    "version": 3
   },
   "file_extension": ".py",
   "mimetype": "text/x-python",
   "name": "python",
   "nbconvert_exporter": "python",
   "pygments_lexer": "ipython3",
   "version": "3.12.3"
  }
 },
 "nbformat": 4,
 "nbformat_minor": 5
}
